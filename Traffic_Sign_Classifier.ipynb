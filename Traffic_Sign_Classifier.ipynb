{
 "cells": [
  {
   "cell_type": "markdown",
   "metadata": {},
   "source": [
    "# Self-Driving Car Engineer Nanodegree\n",
    "\n",
    "## Deep Learning\n",
    "\n",
    "## Project: Build a Traffic Sign Recognition Classifier\n",
    "\n",
    "In this notebook, a template is provided for you to implement your functionality in stages, which is required to successfully complete this project. If additional code is required that cannot be included in the notebook, be sure that the Python code is successfully imported and included in your submission if necessary. \n",
    "\n",
    "> **Note**: Once you have completed all of the code implementations, you need to finalize your work by exporting the iPython Notebook as an HTML document. Before exporting the notebook to html, all of the code cells need to have been run so that reviewers can see the final implementation and output. You can then export the notebook by using the menu above and navigating to  \\n\",\n",
    "    \"**File -> Download as -> HTML (.html)**. Include the finished document along with this notebook as your submission. \n",
    "\n",
    "In addition to implementing code, there is a writeup to complete. The writeup should be completed in a separate file, which can be either a markdown file or a pdf document. There is a [write up template](https://github.com/udacity/CarND-Traffic-Sign-Classifier-Project/blob/master/writeup_template.md) that can be used to guide the writing process. Completing the code template and writeup template will cover all of the [rubric points](https://review.udacity.com/#!/rubrics/481/view) for this project.\n",
    "\n",
    "The [rubric](https://review.udacity.com/#!/rubrics/481/view) contains \"Stand Out Suggestions\" for enhancing the project beyond the minimum requirements. The stand out suggestions are optional. If you decide to pursue the \"stand out suggestions\", you can include the code in this Ipython notebook and also discuss the results in the writeup file.\n",
    "\n",
    "\n",
    ">**Note:** Code and Markdown cells can be executed using the **Shift + Enter** keyboard shortcut. In addition, Markdown cells can be edited by typically double-clicking the cell to enter edit mode."
   ]
  },
  {
   "cell_type": "markdown",
   "metadata": {},
   "source": [
    "---\n",
    "## Step 0: Load The Data"
   ]
  },
  {
   "cell_type": "code",
   "execution_count": 2,
   "metadata": {},
   "outputs": [],
   "source": [
    "# Load pickled data\n",
    "import pickle\n",
    "\n",
    "# TODO: Fill this in based on where you saved the training and testing data\n",
    "\n",
    "training_file = '../data/train.p'\n",
    "validation_file= '../data/valid.p'\n",
    "testing_file = '../data/test.p'\n",
    "\n",
    "with open(training_file, mode='rb') as f:\n",
    "    train = pickle.load(f)\n",
    "with open(validation_file, mode='rb') as f:\n",
    "    valid = pickle.load(f)\n",
    "with open(testing_file, mode='rb') as f:\n",
    "    test = pickle.load(f)\n",
    "    \n",
    "X_train, y_train = train['features'], train['labels']\n",
    "X_valid, y_valid = valid['features'], valid['labels']\n",
    "X_test, y_test = test['features'], test['labels']"
   ]
  },
  {
   "cell_type": "markdown",
   "metadata": {},
   "source": [
    "---\n",
    "\n",
    "## Step 1: Dataset Summary & Exploration\n",
    "\n",
    "The pickled data is a dictionary with 4 key/value pairs:\n",
    "\n",
    "- `'features'` is a 4D array containing raw pixel data of the traffic sign images, (num examples, width, height, channels).\n",
    "- `'labels'` is a 1D array containing the label/class id of the traffic sign. The file `signnames.csv` contains id -> name mappings for each id.\n",
    "- `'sizes'` is a list containing tuples, (width, height) representing the original width and height the image.\n",
    "- `'coords'` is a list containing tuples, (x1, y1, x2, y2) representing coordinates of a bounding box around the sign in the image. **THESE COORDINATES ASSUME THE ORIGINAL IMAGE. THE PICKLED DATA CONTAINS RESIZED VERSIONS (32 by 32) OF THESE IMAGES**\n",
    "\n",
    "Complete the basic data summary below. Use python, numpy and/or pandas methods to calculate the data summary rather than hard coding the results. For example, the [pandas shape method](http://pandas.pydata.org/pandas-docs/stable/generated/pandas.DataFrame.shape.html) might be useful for calculating some of the summary results. "
   ]
  },
  {
   "cell_type": "markdown",
   "metadata": {},
   "source": [
    "### Provide a Basic Summary of the Data Set Using Python, Numpy and/or Pandas"
   ]
  },
  {
   "cell_type": "code",
   "execution_count": 3,
   "metadata": {},
   "outputs": [
    {
     "name": "stdout",
     "output_type": "stream",
     "text": [
      "Number of training examples = 34799\n",
      "Number of testing examples = 12630\n",
      "Image data shape = (32, 32, 3)\n",
      "Number of classes = 43\n"
     ]
    }
   ],
   "source": [
    "### Replace each question mark with the appropriate value. \n",
    "### Use python, pandas or numpy methods rather than hard coding the results\n",
    "\n",
    "import numpy as np\n",
    "# TODO: Number of training examples\n",
    "n_train = np.shape(X_train)[0]\n",
    "\n",
    "# TODO: Number of validation examples\n",
    "n_validation = np.shape(X_valid)[0]\n",
    "\n",
    "# TODO: Number of testing examples.\n",
    "n_test = np.shape(X_test)[0]\n",
    "\n",
    "# TODO: What's the shape of an traffic sign image?\n",
    "image_shape = np.shape(X_train[1,:])\n",
    "\n",
    "\n",
    "# TODO: How many unique classes/labels there are in the dataset.\n",
    "n_classes = len(np.unique(y_train))\n",
    "\n",
    "print(\"Number of training examples =\", n_train)\n",
    "print(\"Number of testing examples =\", n_test)\n",
    "print(\"Image data shape =\", image_shape)\n",
    "print(\"Number of classes =\", n_classes)"
   ]
  },
  {
   "cell_type": "markdown",
   "metadata": {},
   "source": [
    "### Include an exploratory visualization of the dataset"
   ]
  },
  {
   "cell_type": "markdown",
   "metadata": {},
   "source": [
    "Visualize the German Traffic Signs Dataset using the pickled file(s). This is open ended, suggestions include: plotting traffic sign images, plotting the count of each sign, etc. \n",
    "\n",
    "The [Matplotlib](http://matplotlib.org/) [examples](http://matplotlib.org/examples/index.html) and [gallery](http://matplotlib.org/gallery.html) pages are a great resource for doing visualizations in Python.\n",
    "\n",
    "**NOTE:** It's recommended you start with something simple first. If you wish to do more, come back to it after you've completed the rest of the sections. It can be interesting to look at the distribution of classes in the training, validation and test set. Is the distribution the same? Are there more examples of some classes than others?"
   ]
  },
  {
   "cell_type": "code",
   "execution_count": 4,
   "metadata": {},
   "outputs": [
    {
     "name": "stdout",
     "output_type": "stream",
     "text": [
      "41\n"
     ]
    },
    {
     "data": {
      "image/png": "[encoded data removed]",
      "text/plain": [
       "<matplotlib.figure.Figure at 0x7f9c7120e208>"
      ]
     },
     "metadata": {
      "needs_background": "light"
     },
     "output_type": "display_data"
    },
    {
     "data": {
      "image/png": "[encoded data removed]",
      "text/plain": [
       "<matplotlib.figure.Figure at 0x7f9c71193780>"
      ]
     },
     "metadata": {
      "needs_background": "light"
     },
     "output_type": "display_data"
    }
   ],
   "source": [
    "### Data exploration visualization code goes here.\n",
    "### Feel free to use as many code cells as needed.\n",
    "import matplotlib.pyplot as plt\n",
    "\n",
    "\n",
    "# Visualizations will be shown in the notebook.\n",
    "%matplotlib inline\n",
    "\n",
    "plt.imshow(X_train[120,:])\n",
    "print(y_train[120])\n",
    "#print(X_train[120,:].shape)\n",
    "plt.show()\n",
    "\n",
    "\n",
    "\n",
    "plt.hist(y_train, bins = 43)\n",
    "plt.show()\n"
   ]
  },
  {
   "cell_type": "markdown",
   "metadata": {},
   "source": [
    "----\n",
    "\n",
    "## Step 2: Design and Test a Model Architecture\n",
    "\n",
    "Design and implement a deep learning model that learns to recognize traffic signs. Train and test your model on the [German Traffic Sign Dataset](http://benchmark.ini.rub.de/?section=gtsrb&subsection=dataset).\n",
    "\n",
    "The LeNet-5 implementation shown in the [classroom](https://classroom.udacity.com/nanodegrees/nd013/parts/fbf77062-5703-404e-b60c-95b78b2f3f9e/modules/6df7ae49-c61c-4bb2-a23e-6527e69209ec/lessons/601ae704-1035-4287-8b11-e2c2716217ad/concepts/d4aca031-508f-4e0b-b493-e7b706120f81) at the end of the CNN lesson is a solid starting point. You'll have to change the number of classes and possibly the preprocessing, but aside from that it's plug and play! \n",
    "\n",
    "With the LeNet-5 solution from the lecture, you should expect a validation set accuracy of about 0.89. To meet specifications, the validation set accuracy will need to be at least 0.93. It is possible to get an even higher accuracy, but 0.93 is the minimum for a successful project submission. \n",
    "\n",
    "There are various aspects to consider when thinking about this problem:\n",
    "\n",
    "- Neural network architecture (is the network over or underfitting?)\n",
    "- Play around preprocessing techniques (normalization, rgb to grayscale, etc)\n",
    "- Number of examples per label (some have more than others).\n",
    "- Generate fake data.\n",
    "\n",
    "Here is an example of a [published baseline model on this problem](http://yann.lecun.com/exdb/publis/pdf/sermanet-ijcnn-11.pdf). It's not required to be familiar with the approach used in the paper but, it's good practice to try to read papers like these."
   ]
  },
  {
   "cell_type": "markdown",
   "metadata": {},
   "source": [
    "### Pre-process the Data Set (normalization, grayscale, etc.)"
   ]
  },
  {
   "cell_type": "markdown",
   "metadata": {},
   "source": [
    "Minimally, the image data should be normalized so that the data has mean zero and equal variance. For image data, `(pixel - 128)/ 128` is a quick way to approximately normalize the data and can be used in this project. \n",
    "\n",
    "Other pre-processing steps are optional. You can try different techniques to see if it improves performance. \n",
    "\n",
    "Use the code cell (or multiple code cells, if necessary) to implement the first step of your project."
   ]
  },
  {
   "cell_type": "code",
   "execution_count": 21,
   "metadata": {},
   "outputs": [],
   "source": [
    "### Preprocess the data here. It is required to normalize the data. Other preprocessing steps could include \n",
    "### converting to grayscale, etc.\n",
    "\n",
    "X_train = np.sum(X_train/3, axis=3, keepdims=True)\n",
    "X_test = np.sum(X_test/3, axis=3, keepdims=True)\n",
    "X_valid = np.sum(X_valid/3, axis=3, keepdims=True)\n",
    "X_train = (X_train - 128)/128\n",
    "X_test = (X_test - 128)/128\n",
    "X_valid = (X_valid - 128)/128\n",
    "\n",
    "\n",
    "#plt.imshow(X_train[120,:])\n",
    "#print(y_train[120])\n",
    "#plt.show()\n",
    "\n",
    "\n",
    "### Feel free to use as many code cells as needed."
   ]
  },
  {
   "cell_type": "code",
   "execution_count": 22,
   "metadata": {},
   "outputs": [],
   "source": [
    "#Shuffle Data\n",
    "\n",
    "from sklearn.utils import shuffle\n",
    "X_train, y_train = shuffle(X_train, y_train)"
   ]
  },
  {
   "cell_type": "code",
   "execution_count": 23,
   "metadata": {},
   "outputs": [],
   "source": [
    "import tensorflow as tf\n",
    "\n",
    "EPOCHS = 50\n",
    "BATCH_SIZE = 128"
   ]
  },
  {
   "cell_type": "markdown",
   "metadata": {},
   "source": [
    "### Model Architecture"
   ]
  },
  {
   "cell_type": "code",
   "execution_count": 24,
   "metadata": {},
   "outputs": [],
   "source": [
    "### Define your architecture here.\n",
    "\n",
    "from tensorflow.contrib.layers import flatten\n",
    "\n",
    "def LeNet(x):    \n",
    "    # Arguments used for tf.truncated_normal, randomly defines variables for the weights and biases for each layer\n",
    "    mu = 0\n",
    "    sigma = 0.1\n",
    "    \n",
    "    # SOLUTION: Layer 1: Convolutional. Input = 32x32x1. Output = 28x28x6.\n",
    "    conv1_W = tf.Variable(tf.truncated_normal(shape=(5, 5, 1, 6), mean = mu, stddev = sigma))\n",
    "    conv1_b = tf.Variable(tf.zeros(6))\n",
    "    conv1   = tf.nn.conv2d(x, conv1_W, strides=[1, 1, 1, 1], padding='VALID') + conv1_b\n",
    "\n",
    "    # SOLUTION: Activation.\n",
    "    conv1 = tf.nn.relu(conv1)\n",
    "\n",
    "    # SOLUTION: Pooling. Input = 28x28x6. Output = 14x14x6.\n",
    "    conv1 = tf.nn.max_pool(conv1, ksize=[1, 2, 2, 1], strides=[1, 2, 2, 1], padding='VALID')\n",
    "\n",
    "    # SOLUTION: Layer 2: Convolutional. Output = 10x10x16.\n",
    "    conv2_W = tf.Variable(tf.truncated_normal(shape=(5, 5, 6, 16), mean = mu, stddev = sigma))\n",
    "    conv2_b = tf.Variable(tf.zeros(16))\n",
    "    conv2   = tf.nn.conv2d(conv1, conv2_W, strides=[1, 1, 1, 1], padding='VALID') + conv2_b\n",
    "    \n",
    "    # SOLUTION: Activation.\n",
    "    conv2 = tf.nn.relu(conv2)\n",
    "\n",
    "    # SOLUTION: Pooling. Input = 10x10x16. Output = 5x5x16.\n",
    "    conv2 = tf.nn.max_pool(conv2, ksize=[1, 2, 2, 1], strides=[1, 2, 2, 1], padding='VALID')\n",
    "\n",
    "    # SOLUTION: Flatten. Input = 5x5x16. Output = 400.\n",
    "    fc0   = flatten(conv2)\n",
    "    \n",
    "    # SOLUTION: Layer 3: Fully Connected. Input = 400. Output = 120.\n",
    "    fc1_W = tf.Variable(tf.truncated_normal(shape=(400, 120), mean = mu, stddev = sigma))\n",
    "    fc1_b = tf.Variable(tf.zeros(120))\n",
    "    fc1   = tf.matmul(fc0, fc1_W) + fc1_b\n",
    "    \n",
    "    # SOLUTION: Activation.\n",
    "    fc1    = tf.nn.relu(fc1)\n",
    "    \n",
    "    #implementing a dropout \n",
    "    \n",
    "    fc1 = tf.nn.dropout(fc1, keep_prob)\n",
    "\n",
    "    # SOLUTION: Layer 4: Fully Connected. Input = 120. Output = 100.\n",
    "    fc2_W  = tf.Variable(tf.truncated_normal(shape=(120, 100), mean = mu, stddev = sigma))\n",
    "    fc2_b  = tf.Variable(tf.zeros(100))\n",
    "    fc2    = tf.matmul(fc1, fc2_W) + fc2_b\n",
    "    \n",
    "    # SOLUTION: Activation.\n",
    "    fc2    = tf.nn.relu(fc2)\n",
    "    \n",
    "    #implementing another dropout\n",
    "    \n",
    "    #fc2 = tf.nn.dropout(fc2, keep_prob)\n",
    "    \n",
    "\n",
    "    # SOLUTION: Layer 5: Fully Connected. Input = 100. Output = 43.\n",
    "    fc3_W  = tf.Variable(tf.truncated_normal(shape=(100, 43), mean = mu, stddev = sigma))\n",
    "    fc3_b  = tf.Variable(tf.zeros(43))\n",
    "    logits = tf.matmul(fc2, fc3_W) + fc3_b\n",
    "    \n",
    "    return logits\n",
    "\n",
    "### Feel free to use as many code cells as needed."
   ]
  },
  {
   "cell_type": "markdown",
   "metadata": {},
   "source": [
    "### Train, Validate and Test the Model"
   ]
  },
  {
   "cell_type": "markdown",
   "metadata": {},
   "source": [
    "A validation set can be used to assess how well the model is performing. A low accuracy on the training and validation\n",
    "sets imply underfitting. A high accuracy on the training set but low accuracy on the validation set implies overfitting."
   ]
  },
  {
   "cell_type": "code",
   "execution_count": 25,
   "metadata": {},
   "outputs": [],
   "source": [
    "### Train your model here.\n",
    "\n",
    "x = tf.placeholder(tf.float32, (None, 32, 32, 1))\n",
    "y = tf.placeholder(tf.int32, (None))\n",
    "one_hot_y = tf.one_hot(y, 43)\n",
    "keep_prob = tf.placeholder(tf.float32) #defining the dropout prob.\n",
    "\n",
    "\n",
    "### Calculate and report the accuracy on the training and validation set.\n",
    "### Once a final model architecture is selected, \n",
    "### the accuracy on the test set should be calculated and reported as well.\n",
    "### Feel free to use as many code cells as needed."
   ]
  },
  {
   "cell_type": "code",
   "execution_count": 26,
   "metadata": {},
   "outputs": [],
   "source": [
    "rate = 0.0009\n",
    "\n",
    "logits = LeNet(x)\n",
    "cross_entropy = tf.nn.softmax_cross_entropy_with_logits(labels=one_hot_y, logits=logits)\n",
    "loss_operation = tf.reduce_mean(cross_entropy)\n",
    "optimizer = tf.train.AdamOptimizer(learning_rate = rate)\n",
    "training_operation = optimizer.minimize(loss_operation)\n"
   ]
  },
  {
   "cell_type": "code",
   "execution_count": 27,
   "metadata": {},
   "outputs": [],
   "source": [
    "correct_prediction = tf.equal(tf.argmax(logits, 1), tf.argmax(one_hot_y, 1))\n",
    "accuracy_operation = tf.reduce_mean(tf.cast(correct_prediction, tf.float32))\n",
    "saver = tf.train.Saver()\n",
    "\n",
    "def evaluate(X_data, y_data):\n",
    "    num_examples = len(X_data)\n",
    "    total_accuracy = 0\n",
    "    sess = tf.get_default_session()\n",
    "    for offset in range(0, num_examples, BATCH_SIZE):\n",
    "        batch_x, batch_y = X_data[offset:offset+BATCH_SIZE], y_data[offset:offset+BATCH_SIZE]\n",
    "        accuracy = sess.run(accuracy_operation, feed_dict={x: batch_x, y: batch_y, keep_prob : 1})\n",
    "        total_accuracy += (accuracy * len(batch_x))\n",
    "    return total_accuracy / num_examples"
   ]
  },
  {
   "cell_type": "code",
   "execution_count": 28,
   "metadata": {},
   "outputs": [
    {
     "name": "stdout",
     "output_type": "stream",
     "text": [
      "Training...\n",
      "\n",
      "EPOCH 1 ...\n",
      "Validation Accuracy = 0.677\n",
      "\n",
      "EPOCH 2 ...\n",
      "Validation Accuracy = 0.827\n",
      "\n",
      "EPOCH 3 ...\n",
      "Validation Accuracy = 0.858\n",
      "\n",
      "EPOCH 4 ...\n",
      "Validation Accuracy = 0.876\n",
      "\n",
      "EPOCH 5 ...\n",
      "Validation Accuracy = 0.898\n",
      "\n",
      "EPOCH 6 ...\n",
      "Validation Accuracy = 0.905\n",
      "\n",
      "EPOCH 7 ...\n",
      "Validation Accuracy = 0.914\n",
      "\n",
      "EPOCH 8 ...\n",
      "Validation Accuracy = 0.920\n",
      "\n",
      "EPOCH 9 ...\n",
      "Validation Accuracy = 0.921\n",
      "\n",
      "EPOCH 10 ...\n",
      "Validation Accuracy = 0.938\n",
      "\n",
      "EPOCH 11 ...\n",
      "Validation Accuracy = 0.929\n",
      "\n",
      "EPOCH 12 ...\n",
      "Validation Accuracy = 0.937\n",
      "\n",
      "EPOCH 13 ...\n",
      "Validation Accuracy = 0.940\n",
      "\n",
      "EPOCH 14 ...\n",
      "Validation Accuracy = 0.939\n",
      "\n",
      "EPOCH 15 ...\n",
      "Validation Accuracy = 0.943\n",
      "\n",
      "EPOCH 16 ...\n",
      "Validation Accuracy = 0.946\n",
      "\n",
      "EPOCH 17 ...\n",
      "Validation Accuracy = 0.931\n",
      "\n",
      "EPOCH 18 ...\n",
      "Validation Accuracy = 0.941\n",
      "\n",
      "EPOCH 19 ...\n",
      "Validation Accuracy = 0.939\n",
      "\n",
      "EPOCH 20 ...\n",
      "Validation Accuracy = 0.943\n",
      "\n",
      "EPOCH 21 ...\n",
      "Validation Accuracy = 0.940\n",
      "\n",
      "EPOCH 22 ...\n",
      "Validation Accuracy = 0.943\n",
      "\n",
      "EPOCH 23 ...\n",
      "Validation Accuracy = 0.941\n",
      "\n",
      "EPOCH 24 ...\n",
      "Validation Accuracy = 0.947\n",
      "\n",
      "EPOCH 25 ...\n",
      "Validation Accuracy = 0.943\n",
      "\n",
      "EPOCH 26 ...\n",
      "Validation Accuracy = 0.949\n",
      "\n",
      "EPOCH 27 ...\n",
      "Validation Accuracy = 0.944\n",
      "\n",
      "EPOCH 28 ...\n",
      "Validation Accuracy = 0.949\n",
      "\n",
      "EPOCH 29 ...\n",
      "Validation Accuracy = 0.949\n",
      "\n",
      "EPOCH 30 ...\n",
      "Validation Accuracy = 0.950\n",
      "\n",
      "EPOCH 31 ...\n",
      "Validation Accuracy = 0.951\n",
      "\n",
      "EPOCH 32 ...\n",
      "Validation Accuracy = 0.951\n",
      "\n",
      "EPOCH 33 ...\n",
      "Validation Accuracy = 0.944\n",
      "\n",
      "EPOCH 34 ...\n",
      "Validation Accuracy = 0.951\n",
      "\n",
      "EPOCH 35 ...\n",
      "Validation Accuracy = 0.956\n",
      "\n",
      "EPOCH 36 ...\n",
      "Validation Accuracy = 0.949\n",
      "\n",
      "EPOCH 37 ...\n",
      "Validation Accuracy = 0.944\n",
      "\n",
      "EPOCH 38 ...\n",
      "Validation Accuracy = 0.954\n",
      "\n",
      "EPOCH 39 ...\n",
      "Validation Accuracy = 0.950\n",
      "\n",
      "EPOCH 40 ...\n",
      "Validation Accuracy = 0.952\n",
      "\n",
      "EPOCH 41 ...\n",
      "Validation Accuracy = 0.956\n",
      "\n",
      "EPOCH 42 ...\n",
      "Validation Accuracy = 0.947\n",
      "\n",
      "EPOCH 43 ...\n",
      "Validation Accuracy = 0.959\n",
      "\n",
      "EPOCH 44 ...\n",
      "Validation Accuracy = 0.955\n",
      "\n",
      "EPOCH 45 ...\n",
      "Validation Accuracy = 0.955\n",
      "\n",
      "EPOCH 46 ...\n",
      "Validation Accuracy = 0.947\n",
      "\n",
      "EPOCH 47 ...\n",
      "Validation Accuracy = 0.957\n",
      "\n",
      "EPOCH 48 ...\n",
      "Validation Accuracy = 0.958\n",
      "\n",
      "EPOCH 49 ...\n",
      "Validation Accuracy = 0.964\n",
      "\n",
      "EPOCH 50 ...\n",
      "Validation Accuracy = 0.956\n",
      "\n",
      "Model saved\n"
     ]
    }
   ],
   "source": [
    "with tf.Session() as sess:\n",
    "    sess.run(tf.global_variables_initializer())\n",
    "    num_examples = len(X_train)\n",
    "    \n",
    "    print(\"Training...\")\n",
    "    print()\n",
    "    for i in range(EPOCHS):\n",
    "        X_train, y_train = shuffle(X_train, y_train)\n",
    "        for offset in range(0, num_examples, BATCH_SIZE):\n",
    "            end = offset + BATCH_SIZE\n",
    "            batch_x, batch_y = X_train[offset:end], y_train[offset:end]\n",
    "            sess.run(training_operation, feed_dict={x: batch_x, y: batch_y, keep_prob : 0.5})\n",
    "            \n",
    "        validation_accuracy = evaluate(X_valid, y_valid)\n",
    "        print(\"EPOCH {} ...\".format(i+1))\n",
    "        print(\"Validation Accuracy = {:.3f}\".format(validation_accuracy))\n",
    "        print()\n",
    "        \n",
    "    saver.save(sess, './lenet')\n",
    "    print(\"Model saved\")"
   ]
  },
  {
   "cell_type": "code",
   "execution_count": 29,
   "metadata": {},
   "outputs": [
    {
     "name": "stdout",
     "output_type": "stream",
     "text": [
      "INFO:tensorflow:Restoring parameters from ./lenet\n",
      "Test Accuracy = 0.937\n"
     ]
    }
   ],
   "source": [
    "with tf.Session() as sess:\n",
    "    saver.restore(sess, tf.train.latest_checkpoint('.'))\n",
    "\n",
    "    test_accuracy = evaluate(X_test, y_test)\n",
    "    print(\"Test Accuracy = {:.3f}\".format(test_accuracy))"
   ]
  },
  {
   "cell_type": "markdown",
   "metadata": {},
   "source": [
    "---\n",
    "\n",
    "## Step 3: Test a Model on New Images\n",
    "\n",
    "To give yourself more insight into how your model is working, download at least five pictures of German traffic signs from the web and use your model to predict the traffic sign type.\n",
    "\n",
    "You may find `signnames.csv` useful as it contains mappings from the class id (integer) to the actual sign name."
   ]
  },
  {
   "cell_type": "markdown",
   "metadata": {},
   "source": [
    "### Load and Output the Images"
   ]
  },
  {
   "cell_type": "code",
   "execution_count": 30,
   "metadata": {},
   "outputs": [
    {
     "data": {
      "text/plain": [
       "['./test_image/2.JPG',\n",
       " './test_image/4.JPG',\n",
       " './test_image/3.JPG',\n",
       " './test_image/5.JPG',\n",
       " './test_image/6.JPG',\n",
       " './test_image/1.JPG',\n",
       " './test_image/7.JPG',\n",
       " './test_image/8.JPG']"
      ]
     },
     "execution_count": 30,
     "metadata": {},
     "output_type": "execute_result"
    }
   ],
   "source": [
    "### Load the images and plot them here.\n",
    "\n",
    "import cv2\n",
    "import glob\n",
    "import matplotlib.pyplot as plt\n",
    "import numpy as np\n",
    "images = glob.glob('./test_image/*.JPG')\n",
    "\n",
    "my_images = []\n",
    "\n",
    "    \n",
    "for fname in images:\n",
    "    img = cv2.imread(fname)\n",
    "#    img = cv2.cvtColor(img, cv2.COLOR_RGB2GRAY)\n",
    "    img = cv2.resize(img, (32,32))\n",
    "#    img = (img - 128)/128\n",
    "    my_images.append(img)\n",
    "\n",
    "\n",
    "my_images = np.asarray(my_images)\n",
    "\n",
    "\n",
    "my_images = np.sum(my_images/3, axis=3, keepdims=True)\n",
    "\n",
    "my_images = (my_images - 128)/128\n",
    "\n",
    "my_images.shape\n",
    "images\n",
    "#plt.imshow(my_images[0,:])\n",
    "\n",
    "### Feel free to use as many code cells as needed."
   ]
  },
  {
   "cell_type": "markdown",
   "metadata": {},
   "source": [
    "### Predict the Sign Type for Each Image"
   ]
  },
  {
   "cell_type": "code",
   "execution_count": 31,
   "metadata": {},
   "outputs": [
    {
     "name": "stdout",
     "output_type": "stream",
     "text": [
      "INFO:tensorflow:Restoring parameters from ./lenet\n",
      "1.0\n"
     ]
    }
   ],
   "source": [
    "### Run the predictions here and use the model to output the prediction for each image.\n",
    "\n",
    "my_labels = [3,5,33,40,2,14,25,1]\n",
    "# Check Test Accuracy\n",
    "\n",
    "with tf.Session() as sess:\n",
    "    saver.restore(sess, tf.train.latest_checkpoint('.'))\n",
    "    output_accuracy = evaluate(my_images, my_labels)\n",
    "    print(output_accuracy)\n",
    "\n",
    "### Make sure to pre-process the images with the same pre-processing pipeline used earlier.\n",
    "### Feel free to use as many code cells as needed."
   ]
  },
  {
   "cell_type": "markdown",
   "metadata": {},
   "source": [
    "### Output Top 5 Softmax Probabilities For Each Image Found on the Web"
   ]
  },
  {
   "cell_type": "markdown",
   "metadata": {},
   "source": [
    "For each of the new images, print out the model's softmax probabilities to show the **certainty** of the model's predictions (limit the output to the top 5 probabilities for each image). [`tf.nn.top_k`](https://www.tensorflow.org/versions/r0.12/api_docs/python/nn.html#top_k) could prove helpful here. \n",
    "\n",
    "The example below demonstrates how tf.nn.top_k can be used to find the top k predictions for each image.\n",
    "\n",
    "`tf.nn.top_k` will return the values and indices (class ids) of the top k predictions. So if k=3, for each sign, it'll return the 3 largest probabilities (out of a possible 43) and the correspoding class ids.\n",
    "\n",
    "Take this numpy array as an example. The values in the array represent predictions. The array contains softmax probabilities for five candidate images with six possible classes. `tf.nn.top_k` is used to choose the three classes with the highest probability:\n",
    "\n",
    "```\n",
    "# (5, 6) array\n",
    "a = np.array([[ 0.24879643,  0.07032244,  0.12641572,  0.34763842,  0.07893497,\n",
    "         0.12789202],\n",
    "       [ 0.28086119,  0.27569815,  0.08594638,  0.0178669 ,  0.18063401,\n",
    "         0.15899337],\n",
    "       [ 0.26076848,  0.23664738,  0.08020603,  0.07001922,  0.1134371 ,\n",
    "         0.23892179],\n",
    "       [ 0.11943333,  0.29198961,  0.02605103,  0.26234032,  0.1351348 ,\n",
    "         0.16505091],\n",
    "       [ 0.09561176,  0.34396535,  0.0643941 ,  0.16240774,  0.24206137,\n",
    "         0.09155967]])\n",
    "```\n",
    "\n",
    "Running it through `sess.run(tf.nn.top_k(tf.constant(a), k=3))` produces:\n",
    "\n",
    "```\n",
    "TopKV2(values=array([[ 0.34763842,  0.24879643,  0.12789202],\n",
    "       [ 0.28086119,  0.27569815,  0.18063401],\n",
    "       [ 0.26076848,  0.23892179,  0.23664738],\n",
    "       [ 0.29198961,  0.26234032,  0.16505091],\n",
    "       [ 0.34396535,  0.24206137,  0.16240774]]), indices=array([[3, 0, 5],\n",
    "       [0, 1, 4],\n",
    "       [0, 5, 1],\n",
    "       [1, 3, 5],\n",
    "       [1, 4, 3]], dtype=int32))\n",
    "```\n",
    "\n",
    "Looking just at the first row we get `[ 0.34763842,  0.24879643,  0.12789202]`, you can confirm these are the 3 largest probabilities in `a`. You'll also notice `[3, 0, 5]` are the corresponding indices."
   ]
  },
  {
   "cell_type": "code",
   "execution_count": 32,
   "metadata": {},
   "outputs": [
    {
     "name": "stdout",
     "output_type": "stream",
     "text": [
      "INFO:tensorflow:Restoring parameters from ./lenet\n",
      "[[  0.00000000e+00   6.24257130e-19   2.21098259e-13   1.00000000e+00\n",
      "    0.00000000e+00   2.35405445e-17   8.17042207e-31   0.00000000e+00\n",
      "    0.00000000e+00   0.00000000e+00   0.00000000e+00   0.00000000e+00\n",
      "    0.00000000e+00   0.00000000e+00   0.00000000e+00   0.00000000e+00\n",
      "    0.00000000e+00   0.00000000e+00   0.00000000e+00   0.00000000e+00\n",
      "    0.00000000e+00   0.00000000e+00   0.00000000e+00   6.95569088e-37\n",
      "    0.00000000e+00   3.22672379e-29   0.00000000e+00   0.00000000e+00\n",
      "    0.00000000e+00   5.38631109e-30   0.00000000e+00   1.06096181e-18\n",
      "    0.00000000e+00   0.00000000e+00   0.00000000e+00   0.00000000e+00\n",
      "    4.35304485e-36   0.00000000e+00   3.03478368e-33   0.00000000e+00\n",
      "    0.00000000e+00   0.00000000e+00   0.00000000e+00]\n",
      " [  3.47463601e-19   4.23249977e-13   3.16404104e-01   1.05171011e-06\n",
      "    8.88328776e-20   6.83592558e-01   1.27507646e-27   2.05600836e-12\n",
      "    1.97989017e-15   1.74780995e-34   7.56583477e-18   1.12882401e-34\n",
      "    2.06093718e-37   1.57026356e-33   1.57711048e-29   4.54094589e-29\n",
      "    5.73816039e-32   0.00000000e+00   3.72659451e-31   1.90537139e-15\n",
      "    2.10450242e-25   9.77297766e-24   2.02419222e-37   1.51276543e-26\n",
      "    1.29496814e-27   1.93445443e-22   3.43497467e-30   6.45542765e-32\n",
      "    4.89267268e-30   3.28795616e-23   1.93610911e-36   2.30346177e-06\n",
      "    5.23157910e-38   6.09360426e-31   1.08792949e-35   4.20684779e-25\n",
      "    3.64304525e-24   1.14492183e-27   1.16983317e-30   1.78269359e-23\n",
      "    8.26436815e-25   0.00000000e+00   2.17369884e-35]\n",
      " [  9.09035597e-23   7.82824045e-18   2.73009931e-21   4.61310348e-21\n",
      "    8.27395282e-17   2.00245227e-18   9.88226721e-28   1.93558589e-11\n",
      "    1.27704105e-21   1.13807272e-17   8.06419493e-13   2.25965279e-17\n",
      "    2.99299278e-18   7.67283698e-13   7.33461959e-18   1.11441181e-21\n",
      "    1.26250695e-18   6.95791826e-15   6.72816261e-25   1.51098743e-19\n",
      "    1.67066281e-25   3.41946486e-16   8.42469161e-33   7.13104078e-25\n",
      "    1.87917946e-25   2.04295904e-19   4.94977865e-14   7.72649871e-28\n",
      "    9.65929492e-24   4.39862688e-23   1.54311420e-17   1.43498690e-24\n",
      "    2.50116631e-27   1.00000000e+00   1.48342088e-17   6.45884442e-14\n",
      "    1.96083800e-27   3.54798464e-16   6.97764043e-30   1.91596454e-18\n",
      "    9.56999508e-15   6.47571295e-27   5.40713103e-20]\n",
      " [  6.11063206e-23   5.46986746e-17   1.16285115e-20   2.28105067e-24\n",
      "    1.01585582e-28   5.97660156e-22   2.54803032e-22   2.66006964e-07\n",
      "    1.87754496e-23   4.10318109e-19   6.01755114e-22   6.48960830e-10\n",
      "    1.17398895e-06   3.61094200e-22   6.01862118e-25   7.06022622e-24\n",
      "    1.47705758e-14   2.02311007e-19   3.01966031e-20   2.99098067e-25\n",
      "    6.97459142e-24   2.68314864e-14   0.00000000e+00   6.87786445e-24\n",
      "    2.61303351e-24   1.02986226e-30   4.93716923e-16   9.83976893e-16\n",
      "    1.56462503e-14   7.38876091e-23   2.55589545e-15   2.35779165e-23\n",
      "    1.13884191e-21   2.71718388e-19   1.16828990e-26   9.59303691e-24\n",
      "    1.82124023e-35   5.32379213e-16   3.80520847e-23   1.46750710e-25\n",
      "    9.99998569e-01   8.77476412e-25   1.35617637e-18]\n",
      " [  4.61928568e-28   1.92157645e-09   1.00000000e+00   3.03523008e-29\n",
      "    1.70398754e-36   2.70599368e-28   0.00000000e+00   2.33267672e-28\n",
      "    6.01237420e-22   0.00000000e+00   0.00000000e+00   0.00000000e+00\n",
      "    0.00000000e+00   0.00000000e+00   1.66018612e-33   0.00000000e+00\n",
      "    0.00000000e+00   0.00000000e+00   0.00000000e+00   0.00000000e+00\n",
      "    1.88428499e-38   8.86423245e-33   0.00000000e+00   0.00000000e+00\n",
      "    0.00000000e+00   0.00000000e+00   2.21319496e-38   0.00000000e+00\n",
      "    0.00000000e+00   0.00000000e+00   0.00000000e+00   1.09010134e-20\n",
      "    0.00000000e+00   0.00000000e+00   0.00000000e+00   0.00000000e+00\n",
      "    0.00000000e+00   8.68796026e-29   3.15984074e-35   2.90391139e-31\n",
      "    3.02666097e-30   0.00000000e+00   0.00000000e+00]\n",
      " [  1.05842606e-20   3.34305926e-15   1.39274946e-11   6.58063920e-16\n",
      "    2.51021077e-14   1.05254633e-15   5.03471454e-28   2.72646453e-23\n",
      "    1.56635146e-16   3.20928899e-16   1.16612584e-14   6.19529821e-24\n",
      "    4.27893128e-18   3.65597413e-10   1.00000000e+00   1.78439539e-13\n",
      "    1.31005877e-32   5.41913452e-14   4.06958488e-16   6.80776154e-24\n",
      "    6.07121571e-14   6.17357369e-23   8.06859874e-12   2.13673089e-23\n",
      "    7.07464866e-27   8.05733789e-13   1.54635527e-13   7.15456418e-30\n",
      "    3.01749671e-22   2.03421890e-18   7.70991704e-22   1.00079508e-20\n",
      "    3.64725273e-18   3.69113178e-11   7.76059786e-14   8.44758494e-15\n",
      "    8.74367098e-17   6.11549275e-15   2.53312805e-11   2.86200879e-14\n",
      "    4.16383199e-18   8.34194280e-22   1.72734198e-25]\n",
      " [  0.00000000e+00   0.00000000e+00   0.00000000e+00   0.00000000e+00\n",
      "    0.00000000e+00   0.00000000e+00   0.00000000e+00   0.00000000e+00\n",
      "    0.00000000e+00   0.00000000e+00   7.21947841e-32   1.23943454e-33\n",
      "    0.00000000e+00   1.36023078e-32   0.00000000e+00   0.00000000e+00\n",
      "    0.00000000e+00   0.00000000e+00   0.00000000e+00   2.74286484e-37\n",
      "    1.21942608e-21   1.25409658e-34   6.17576762e-37   3.23134558e-35\n",
      "    2.22711826e-38   1.00000000e+00   2.59578230e-30   0.00000000e+00\n",
      "    0.00000000e+00   0.00000000e+00   1.56576073e-30   0.00000000e+00\n",
      "    0.00000000e+00   1.19626969e-35   3.18642195e-35   5.45373255e-38\n",
      "    0.00000000e+00   0.00000000e+00   1.12065661e-37   0.00000000e+00\n",
      "    0.00000000e+00   8.34318398e-37   0.00000000e+00]\n",
      " [  1.55887563e-17   1.00000000e+00   1.12267097e-16   2.17091707e-31\n",
      "    5.73660400e-24   2.46112473e-32   1.50306571e-34   2.07695919e-35\n",
      "    7.04855847e-31   0.00000000e+00   0.00000000e+00   0.00000000e+00\n",
      "    0.00000000e+00   0.00000000e+00   0.00000000e+00   0.00000000e+00\n",
      "    0.00000000e+00   0.00000000e+00   1.25730471e-36   0.00000000e+00\n",
      "    0.00000000e+00   2.27843745e-38   0.00000000e+00   0.00000000e+00\n",
      "    4.25129829e-36   0.00000000e+00   0.00000000e+00   0.00000000e+00\n",
      "    0.00000000e+00   0.00000000e+00   0.00000000e+00   5.37276677e-30\n",
      "    0.00000000e+00   0.00000000e+00   0.00000000e+00   0.00000000e+00\n",
      "    0.00000000e+00   4.66240994e-36   0.00000000e+00   1.38401441e-32\n",
      "    8.72126154e-30   0.00000000e+00   0.00000000e+00]]\n",
      "TopKV2(values=array([[  1.00000000e+00,   2.21098259e-13,   2.35405445e-17,\n",
      "          1.06096181e-18,   6.24257130e-19],\n",
      "       [  6.83592558e-01,   3.16404104e-01,   2.30346177e-06,\n",
      "          1.05171011e-06,   2.05600836e-12],\n",
      "       [  1.00000000e+00,   1.93558589e-11,   8.06419493e-13,\n",
      "          7.67283698e-13,   6.45884442e-14],\n",
      "       [  9.99998569e-01,   1.17398895e-06,   2.66006964e-07,\n",
      "          6.48960830e-10,   2.68314864e-14],\n",
      "       [  1.00000000e+00,   1.92157645e-09,   1.09010134e-20,\n",
      "          6.01237420e-22,   4.61928568e-28],\n",
      "       [  1.00000000e+00,   3.65597413e-10,   3.69113178e-11,\n",
      "          2.53312805e-11,   1.39274946e-11],\n",
      "       [  1.00000000e+00,   1.21942608e-21,   2.59578230e-30,\n",
      "          1.56576073e-30,   7.21947841e-32],\n",
      "       [  1.00000000e+00,   1.12267097e-16,   1.55887563e-17,\n",
      "          5.73660400e-24,   8.72126154e-30]], dtype=float32), indices=array([[ 3,  2,  5, 31,  1],\n",
      "       [ 5,  2, 31,  3,  7],\n",
      "       [33,  7, 10, 13, 35],\n",
      "       [40, 12,  7, 11, 21],\n",
      "       [ 2,  1, 31,  8,  0],\n",
      "       [14, 13, 33, 38,  2],\n",
      "       [25, 20, 26, 30, 10],\n",
      "       [ 1,  2,  0,  4, 40]], dtype=int32))\n"
     ]
    }
   ],
   "source": [
    "### Print out the top five softmax probabilities for the predictions on the German traffic sign images found on the web. \n",
    "\n",
    "softmax_logits = tf.nn.softmax(logits)\n",
    "top_k = tf.nn.top_k(softmax_logits, k=5)\n",
    "\n",
    "\n",
    "with tf.Session() as sess:\n",
    "    sess.run(tf.global_variables_initializer())\n",
    "    saver.restore(sess, tf.train.latest_checkpoint('.'))\n",
    "    my_softmax_logits = sess.run(softmax_logits, feed_dict={x: my_images, keep_prob: 1.0})\n",
    "    my_top_k = sess.run(top_k, feed_dict={x: my_images, keep_prob: 1.0})\n",
    "    print(my_softmax_logits)\n",
    "    print(my_top_k)\n",
    "### Feel free to use as many code cells as needed."
   ]
  },
  {
   "cell_type": "markdown",
   "metadata": {},
   "source": [
    "### Project Writeup\n",
    "\n",
    "Once you have completed the code implementation, document your results in a project writeup using this [template](https://github.com/udacity/CarND-Traffic-Sign-Classifier-Project/blob/master/writeup_template.md) as a guide. The writeup can be in a markdown or pdf file. "
   ]
  },
  {
   "cell_type": "markdown",
   "metadata": {},
   "source": [
    "> **Note**: Once you have completed all of the code implementations and successfully answered each question above, you may finalize your work by exporting the iPython Notebook as an HTML document. You can do this by using the menu above and navigating to  \\n\",\n",
    "    \"**File -> Download as -> HTML (.html)**. Include the finished document along with this notebook as your submission."
   ]
  },
  {
   "cell_type": "markdown",
   "metadata": {},
   "source": [
    "---\n",
    "\n",
    "## Step 4 (Optional): Visualize the Neural Network's State with Test Images\n",
    "\n",
    " This Section is not required to complete but acts as an additional excersise for understaning the output of a neural network's weights. While neural networks can be a great learning device they are often referred to as a black box. We can understand what the weights of a neural network look like better by plotting their feature maps. After successfully training your neural network you can see what it's feature maps look like by plotting the output of the network's weight layers in response to a test stimuli image. From these plotted feature maps, it's possible to see what characteristics of an image the network finds interesting. For a sign, maybe the inner network feature maps react with high activation to the sign's boundary outline or to the contrast in the sign's painted symbol.\n",
    "\n",
    " Provided for you below is the function code that allows you to get the visualization output of any tensorflow weight layer you want. The inputs to the function should be a stimuli image, one used during training or a new one you provided, and then the tensorflow variable name that represents the layer's state during the training process, for instance if you wanted to see what the [LeNet lab's](https://classroom.udacity.com/nanodegrees/nd013/parts/fbf77062-5703-404e-b60c-95b78b2f3f9e/modules/6df7ae49-c61c-4bb2-a23e-6527e69209ec/lessons/601ae704-1035-4287-8b11-e2c2716217ad/concepts/d4aca031-508f-4e0b-b493-e7b706120f81) feature maps looked like for it's second convolutional layer you could enter conv2 as the tf_activation variable.\n",
    "\n",
    "For an example of what feature map outputs look like, check out NVIDIA's results in their paper [End-to-End Deep Learning for Self-Driving Cars](https://devblogs.nvidia.com/parallelforall/deep-learning-self-driving-cars/) in the section Visualization of internal CNN State. NVIDIA was able to show that their network's inner weights had high activations to road boundary lines by comparing feature maps from an image with a clear path to one without. Try experimenting with a similar test to show that your trained network's weights are looking for interesting features, whether it's looking at differences in feature maps from images with or without a sign, or even what feature maps look like in a trained network vs a completely untrained one on the same sign image.\n",
    "\n",
    "<figure>\n",
    " <img src=\"visualize_cnn.png\" width=\"380\" alt=\"Combined Image\" />\n",
    " <figcaption>\n",
    " <p></p> \n",
    " <p style=\"text-align: center;\"> Your output should look something like this (above)</p> \n",
    " </figcaption>\n",
    "</figure>\n",
    " <p></p> \n"
   ]
  },
  {
   "cell_type": "code",
   "execution_count": 33,
   "metadata": {},
   "outputs": [],
   "source": [
    "### Visualize your network's feature maps here.\n",
    "### Feel free to use as many code cells as needed.\n",
    "\n",
    "# image_input: the test image being fed into the network to produce the feature maps\n",
    "# tf_activation: should be a tf variable name used during your training procedure that represents the calculated state of a specific weight layer\n",
    "# activation_min/max: can be used to view the activation contrast in more detail, by default matplot sets min and max to the actual min and max values of the output\n",
    "# plt_num: used to plot out multiple different weight feature map sets on the same block, just extend the plt number for each new feature map entry\n",
    "\n",
    "def outputFeatureMap(image_input, tf_activation, activation_min=-1, activation_max=-1 ,plt_num=1):\n",
    "    # Here make sure to preprocess your image_input in a way your network expects\n",
    "    # with size, normalization, ect if needed\n",
    "    # image_input =\n",
    "    # Note: x should be the same name as your network's tensorflow data placeholder variable\n",
    "    # If you get an error tf_activation is not defined it may be having trouble accessing the variable from inside a function\n",
    "    activation = tf_activation.eval(session=sess,feed_dict={x : image_input})\n",
    "    featuremaps = activation.shape[3]\n",
    "    plt.figure(plt_num, figsize=(15,15))\n",
    "    for featuremap in range(featuremaps):\n",
    "        plt.subplot(6,8, featuremap+1) # sets the number of feature maps to show on each row and column\n",
    "        plt.title('FeatureMap ' + str(featuremap)) # displays the feature map number\n",
    "        if activation_min != -1 & activation_max != -1:\n",
    "            plt.imshow(activation[0,:,:, featuremap], interpolation=\"nearest\", vmin =activation_min, vmax=activation_max, cmap=\"gray\")\n",
    "        elif activation_max != -1:\n",
    "            plt.imshow(activation[0,:,:, featuremap], interpolation=\"nearest\", vmax=activation_max, cmap=\"gray\")\n",
    "        elif activation_min !=-1:\n",
    "            plt.imshow(activation[0,:,:, featuremap], interpolation=\"nearest\", vmin=activation_min, cmap=\"gray\")\n",
    "        else:\n",
    "            plt.imshow(activation[0,:,:, featuremap], interpolation=\"nearest\", cmap=\"gray\")"
   ]
  }
 ],
 "metadata": {
  "anaconda-cloud": {},
  "kernelspec": {
   "display_name": "Python 3",
   "language": "python",
   "name": "python3"
  },
  "language_info": {
   "codemirror_mode": {
    "name": "ipython",
    "version": 3
   },
   "file_extension": ".py",
   "mimetype": "text/x-python",
   "name": "python",
   "nbconvert_exporter": "python",
   "pygments_lexer": "ipython3",
   "version": "3.6.3"
  }
 },
 "nbformat": 4,
 "nbformat_minor": 1
}
